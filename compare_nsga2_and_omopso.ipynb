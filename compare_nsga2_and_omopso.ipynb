{
 "cells": [
  {
   "cell_type": "code",
   "execution_count": 54,
   "metadata": {},
   "outputs": [
    {
     "name": "stdout",
     "output_type": "stream",
     "text": [
      "[[0.8453534495790404, 5.649053527872247], [0.3982621886638361, 5.707789978579832], [0.7519962672441473, 5.885941147197307], [0.4437535038180339, 5.903580454182459], [0.2698120733837316, 4.688087122430532], [0.45873319069464513, 5.7618495611675264], [0.8830212270171455, 4.58528843623962], [0.3290066635595542, 5.8240636818211415], [0.017020349471889018, 5.655170009360127], [0.919402021243069, 4.883742849627931], [0.42895116049721094, 4.624168434018575], [0.16221258987857523, 5.486763398805097], [0.2562177205595706, 5.51708803021389], [0.24738377177345783, 5.7968190116440095], [0.7984462159328827, 5.447307673184898], [0.20612164060315752, 5.8192541278979], [0.34547153621273874, 5.347675228336174], [0.9910601681129682, 5.022907829707613], [0.02732684551309139, 5.452574721206887], [0.6623142970353302, 4.999341503173545], [0.8864379921791656, 5.541378516907233], [0.16685975111879447, 5.4379416521367006], [0.17191264185130395, 5.3393953050656915], [0.8131112061708142, 5.6846293794603655], [0.6157369891371175, 4.738624472528625], [0.8832525413700557, 5.421839612693596], [0.12385162651433756, 5.233120803186687], [0.4863170579484867, 6.219918012786223], [0.2635729030118167, 5.847577405066863], [0.4348828645423848, 6.1817751167135775], [0.33276301862932645, 5.188004782664602], [0.895379211721927, 5.523740732804814], [0.34006179807509107, 6.076673187403661], [0.2627954393849322, 5.0249248035353], [0.9026325443858584, 4.985683667062001], [0.7327082009869187, 5.077242829526162], [0.23114669003945454, 5.622377065738744], [0.7292659162941846, 5.807063733163332], [0.0714547129712606, 5.472563257641391], [0.581195462533419, 5.506858915043368], [0.11750610669273387, 4.900282980240596], [0.06952874515465834, 5.20139052915202], [0.5274939207764249, 4.968909637999531], [0.709376107348295, 5.60979323940541], [0.6948365091518609, 6.151583282807714], [0.7711623546712257, 5.033813068310605], [0.4333787582678924, 5.5040840656798675], [0.14235986863541106, 5.104765783898345], [0.1661352222503547, 5.505313292113966], [0.3406355392790055, 4.839973387920495], [0.815461310079, 5.630283320588329], [0.2858013889747182, 5.7921626619032125], [0.7142424188647318, 5.957609956696809], [0.057790709205599144, 4.984682056146692], [0.23227895363345252, 5.477713822324471], [0.426145399447343, 4.3407864640239895], [0.9160533459871683, 4.814957083423506], [0.2534237499856459, 5.050461938639944], [0.07416912778997498, 6.204917856148061], [0.6105020516283507, 6.424892943909677], [0.861286008664218, 4.667140464562059], [0.0722113593670538, 5.320795826208341], [0.5979673662189938, 5.069006776076501], [0.13308570821149768, 5.26903585448964], [0.7499654422920938, 4.739247278857589], [0.43053922136043044, 4.405551976576116], [0.2880694839599284, 4.746463919122164], [0.04190769294745944, 6.218263417012604], [0.07333599595274465, 5.727735234752015], [0.04040614260190223, 5.6894522731562605], [0.9607114150246563, 6.231777904800772], [0.5985459542232351, 5.9008752336286125], [0.33461048153105033, 5.14289772420754], [0.5437254499004157, 5.005300306273819], [0.4279370729833759, 6.623256636917684], [0.5631400262340054, 4.797785315312237], [0.7945007353647847, 5.907923366712632], [0.02484585672291406, 5.210481979694387], [0.27394199015342935, 5.546041596681407], [0.9074325543783509, 4.87659882986839], [0.5584714130208903, 6.130651855455047], [0.08497031966976298, 5.829563292012288], [0.08315262225552655, 5.667959490643235], [0.9334850289512622, 5.054360153492491], [0.4888326087652318, 5.716762795842382], [0.17003345161316352, 5.5844939067419705], [0.14480296600686726, 5.252927070925402], [0.26441185588478344, 5.685354458839545], [0.5225836636041266, 6.064837497721981], [0.3737250559409827, 6.451512521030693], [0.17561435373629264, 4.663131620238151], [0.6723616158611393, 5.5821222133493755], [0.2902766068404641, 5.275534438596059], [0.8714901440968236, 5.717151608082963], [0.0013188037947715614, 5.246692510591445], [0.9396538400486134, 5.52647648741471], [0.9173189698539138, 5.43838939565099], [0.5323516943911433, 4.984825516726492], [0.6833515833112928, 4.4267776694454914], [0.7174163306829245, 5.356652066458423]]\n"
     ]
    }
   ],
   "source": [
    "\n",
    "import numpy as np                             # for multi-dimensional containers\n",
    "import pandas as pd                            # for DataFrames\n",
    "import platypus as plat                        # multi-objective optimisation framework\n",
    "import matplotlib.pyplot as plt\n",
    "\n",
    "D = 30\n",
    "x = np.random.random((100,D)) #100个样本\n",
    "def ZDT2(x):\n",
    "    f1 = x[0]  # objective 1\n",
    "    g = 1 + 9 * np.sum(x[1:D] / (D - 1))\n",
    "    h = 1 - (f1 / g) ** 2\n",
    "    f2 = g * h  # objective 2\n",
    "    return [f1, f2]\n",
    "objective_values = []\n",
    "for i in range(x.shape[0]):\n",
    "    objective_values.append(ZDT2(x[i]))\n",
    "print(objective_values)"
   ]
  },
  {
   "cell_type": "code",
   "execution_count": 55,
   "metadata": {},
   "outputs": [
    {
     "data": {
      "text/plain": [
       "array([[8.45353450e-01, 5.64905353e+00],\n",
       "       [3.98262189e-01, 5.70778998e+00],\n",
       "       [7.51996267e-01, 5.88594115e+00],\n",
       "       [4.43753504e-01, 5.90358045e+00],\n",
       "       [2.69812073e-01, 4.68808712e+00],\n",
       "       [4.58733191e-01, 5.76184956e+00],\n",
       "       [8.83021227e-01, 4.58528844e+00],\n",
       "       [3.29006664e-01, 5.82406368e+00],\n",
       "       [1.70203495e-02, 5.65517001e+00],\n",
       "       [9.19402021e-01, 4.88374285e+00],\n",
       "       [4.28951160e-01, 4.62416843e+00],\n",
       "       [1.62212590e-01, 5.48676340e+00],\n",
       "       [2.56217721e-01, 5.51708803e+00],\n",
       "       [2.47383772e-01, 5.79681901e+00],\n",
       "       [7.98446216e-01, 5.44730767e+00],\n",
       "       [2.06121641e-01, 5.81925413e+00],\n",
       "       [3.45471536e-01, 5.34767523e+00],\n",
       "       [9.91060168e-01, 5.02290783e+00],\n",
       "       [2.73268455e-02, 5.45257472e+00],\n",
       "       [6.62314297e-01, 4.99934150e+00],\n",
       "       [8.86437992e-01, 5.54137852e+00],\n",
       "       [1.66859751e-01, 5.43794165e+00],\n",
       "       [1.71912642e-01, 5.33939531e+00],\n",
       "       [8.13111206e-01, 5.68462938e+00],\n",
       "       [6.15736989e-01, 4.73862447e+00],\n",
       "       [8.83252541e-01, 5.42183961e+00],\n",
       "       [1.23851627e-01, 5.23312080e+00],\n",
       "       [4.86317058e-01, 6.21991801e+00],\n",
       "       [2.63572903e-01, 5.84757741e+00],\n",
       "       [4.34882865e-01, 6.18177512e+00],\n",
       "       [3.32763019e-01, 5.18800478e+00],\n",
       "       [8.95379212e-01, 5.52374073e+00],\n",
       "       [3.40061798e-01, 6.07667319e+00],\n",
       "       [2.62795439e-01, 5.02492480e+00],\n",
       "       [9.02632544e-01, 4.98568367e+00],\n",
       "       [7.32708201e-01, 5.07724283e+00],\n",
       "       [2.31146690e-01, 5.62237707e+00],\n",
       "       [7.29265916e-01, 5.80706373e+00],\n",
       "       [7.14547130e-02, 5.47256326e+00],\n",
       "       [5.81195463e-01, 5.50685892e+00],\n",
       "       [1.17506107e-01, 4.90028298e+00],\n",
       "       [6.95287452e-02, 5.20139053e+00],\n",
       "       [5.27493921e-01, 4.96890964e+00],\n",
       "       [7.09376107e-01, 5.60979324e+00],\n",
       "       [6.94836509e-01, 6.15158328e+00],\n",
       "       [7.71162355e-01, 5.03381307e+00],\n",
       "       [4.33378758e-01, 5.50408407e+00],\n",
       "       [1.42359869e-01, 5.10476578e+00],\n",
       "       [1.66135222e-01, 5.50531329e+00],\n",
       "       [3.40635539e-01, 4.83997339e+00],\n",
       "       [8.15461310e-01, 5.63028332e+00],\n",
       "       [2.85801389e-01, 5.79216266e+00],\n",
       "       [7.14242419e-01, 5.95760996e+00],\n",
       "       [5.77907092e-02, 4.98468206e+00],\n",
       "       [2.32278954e-01, 5.47771382e+00],\n",
       "       [4.26145399e-01, 4.34078646e+00],\n",
       "       [9.16053346e-01, 4.81495708e+00],\n",
       "       [2.53423750e-01, 5.05046194e+00],\n",
       "       [7.41691278e-02, 6.20491786e+00],\n",
       "       [6.10502052e-01, 6.42489294e+00],\n",
       "       [8.61286009e-01, 4.66714046e+00],\n",
       "       [7.22113594e-02, 5.32079583e+00],\n",
       "       [5.97967366e-01, 5.06900678e+00],\n",
       "       [1.33085708e-01, 5.26903585e+00],\n",
       "       [7.49965442e-01, 4.73924728e+00],\n",
       "       [4.30539221e-01, 4.40555198e+00],\n",
       "       [2.88069484e-01, 4.74646392e+00],\n",
       "       [4.19076929e-02, 6.21826342e+00],\n",
       "       [7.33359960e-02, 5.72773523e+00],\n",
       "       [4.04061426e-02, 5.68945227e+00],\n",
       "       [9.60711415e-01, 6.23177790e+00],\n",
       "       [5.98545954e-01, 5.90087523e+00],\n",
       "       [3.34610482e-01, 5.14289772e+00],\n",
       "       [5.43725450e-01, 5.00530031e+00],\n",
       "       [4.27937073e-01, 6.62325664e+00],\n",
       "       [5.63140026e-01, 4.79778532e+00],\n",
       "       [7.94500735e-01, 5.90792337e+00],\n",
       "       [2.48458567e-02, 5.21048198e+00],\n",
       "       [2.73941990e-01, 5.54604160e+00],\n",
       "       [9.07432554e-01, 4.87659883e+00],\n",
       "       [5.58471413e-01, 6.13065186e+00],\n",
       "       [8.49703197e-02, 5.82956329e+00],\n",
       "       [8.31526223e-02, 5.66795949e+00],\n",
       "       [9.33485029e-01, 5.05436015e+00],\n",
       "       [4.88832609e-01, 5.71676280e+00],\n",
       "       [1.70033452e-01, 5.58449391e+00],\n",
       "       [1.44802966e-01, 5.25292707e+00],\n",
       "       [2.64411856e-01, 5.68535446e+00],\n",
       "       [5.22583664e-01, 6.06483750e+00],\n",
       "       [3.73725056e-01, 6.45151252e+00],\n",
       "       [1.75614354e-01, 4.66313162e+00],\n",
       "       [6.72361616e-01, 5.58212221e+00],\n",
       "       [2.90276607e-01, 5.27553444e+00],\n",
       "       [8.71490144e-01, 5.71715161e+00],\n",
       "       [1.31880379e-03, 5.24669251e+00],\n",
       "       [9.39653840e-01, 5.52647649e+00],\n",
       "       [9.17318970e-01, 5.43838940e+00],\n",
       "       [5.32351694e-01, 4.98482552e+00],\n",
       "       [6.83351583e-01, 4.42677767e+00],\n",
       "       [7.17416331e-01, 5.35665207e+00]])"
      ]
     },
     "execution_count": 55,
     "metadata": {},
     "output_type": "execute_result"
    }
   ],
   "source": [
    "objective_values = np.array(objective_values)\n",
    "objective_values"
   ]
  },
  {
   "cell_type": "code",
   "execution_count": 57,
   "metadata": {},
   "outputs": [
    {
     "data": {
      "image/png": "[encoded data removed]",
      "text/plain": [
       "<Figure size 432x288 with 1 Axes>"
      ]
     },
     "metadata": {
      "needs_background": "light"
     },
     "output_type": "display_data"
    }
   ],
   "source": [
    "plt.scatter(objective_values[:,0], objective_values[:,1])\n",
    "plt.show() #展示的是100个随机样本输入函数的目标值"
   ]
  },
  {
   "cell_type": "code",
   "execution_count": 36,
   "metadata": {},
   "outputs": [],
   "source": [
    "import numpy as np                             # for multi-dimensional containers\n",
    "import pandas as pd                            # for DataFrames\n",
    "import platypus as plat                        # multi-objective optimisation framework\n",
    "import matplotlib.pyplot as plt"
   ]
  },
  {
   "cell_type": "code",
   "execution_count": 44,
   "metadata": {},
   "outputs": [],
   "source": [
    "true_front = np.empty((0, 2))\n",
    "\n",
    "for f1 in np.linspace(0, 1, num=20):\n",
    "    f2 = 1 - (f1 ** 2)\n",
    "    true_front = np.vstack([true_front, [f1, f2]])\n",
    "\n",
    "true_front_df = pd.DataFrame(true_front, columns=['f1', 'f2'])  # convert to DataFrame"
   ]
  },
  {
   "cell_type": "code",
   "execution_count": 45,
   "metadata": {},
   "outputs": [],
   "source": [
    "problem = plat.ZDT2()\n",
    "algorithm_nsga2 = plat.NSGAII(problem)\n",
    "algorithm_omopso = plat.OMOPSO(problem, epsilons=[0.05])\n",
    "# (plat.OMOPSO, {\"epsilons\": [0.05]})\n",
    "\n",
    "algorithm_nsga2.run(10000)\n",
    "algorithm_omopso.run(10000)\n",
    "\n",
    "# for solution in algorithm.result:\n",
    "#     print(solution.objectives)\n",
    "#\n",
    "# print('\\n')\n",
    "#\n",
    "# for solution in algorithm1.result:\n",
    "#     print(solution.objectives)"
   ]
  },
  {
   "cell_type": "code",
   "execution_count": 46,
   "metadata": {},
   "outputs": [],
   "source": [
    "objective_values_nsga2 = np.empty((0, 2))\n",
    "for solution in algorithm_nsga2.result:\n",
    "    y = solution.objectives\n",
    "    #print(y)  [0.0003397147438311196, 2.959534678583674]\n",
    "    #[0.01489028917061852, 2.4640591186530667]\n",
    "    objective_values_nsga2 = np.vstack([objective_values_nsga2, y])\n",
    "#print(objective_values_nsga2) "
   ]
  },
  {
   "cell_type": "code",
   "execution_count": 47,
   "metadata": {},
   "outputs": [
    {
     "name": "stdout",
     "output_type": "stream",
     "text": [
      "[[0.990229   0.02040298]\n",
      " [0.         1.00196716]\n",
      " [0.47574469 0.77626481]\n",
      " [0.22972461 0.94990588]\n",
      " [0.3972505  0.84789856]\n",
      " [0.64510253 0.58631262]\n",
      " [0.59868303 0.6473741 ]\n",
      " [0.69000595 0.52588563]\n",
      " [0.07768056 0.99847474]\n",
      " [0.52545109 0.72695481]\n",
      " [0.78788999 0.38125449]\n",
      " [0.9389749  0.11853494]\n",
      " [0.84915794 0.28330771]\n",
      " [0.33206865 0.89375812]\n",
      " [0.74655801 0.44496331]\n",
      " [0.88772834 0.21423539]]\n"
     ]
    }
   ],
   "source": [
    "objective_values_omopso = np.empty((0, 2))\n",
    "for solution in algorithm_omopso.result:\n",
    "    y = solution.objectives\n",
    "    #print(y)  [0.0003397147438311196, 2.959534678583674]\n",
    "    #[0.01489028917061852, 2.4640591186530667]\n",
    "    objective_values_omopso = np.vstack([objective_values_omopso, y])\n",
    "print(objective_values_omopso)"
   ]
  },
  {
   "cell_type": "code",
   "execution_count": 48,
   "metadata": {},
   "outputs": [
    {
     "data": {
      "text/html": [
       "<div>\n",
       "<style scoped>\n",
       "    .dataframe tbody tr th:only-of-type {\n",
       "        vertical-align: middle;\n",
       "    }\n",
       "\n",
       "    .dataframe tbody tr th {\n",
       "        vertical-align: top;\n",
       "    }\n",
       "\n",
       "    .dataframe thead th {\n",
       "        text-align: right;\n",
       "    }\n",
       "</style>\n",
       "<table border=\"1\" class=\"dataframe\">\n",
       "  <thead>\n",
       "    <tr style=\"text-align: right;\">\n",
       "      <th></th>\n",
       "      <th>f1</th>\n",
       "      <th>f2</th>\n",
       "    </tr>\n",
       "  </thead>\n",
       "  <tbody>\n",
       "    <tr>\n",
       "      <td>0</td>\n",
       "      <td>2.207037e-16</td>\n",
       "      <td>1.003777</td>\n",
       "    </tr>\n",
       "    <tr>\n",
       "      <td>1</td>\n",
       "      <td>5.562817e-01</td>\n",
       "      <td>0.697585</td>\n",
       "    </tr>\n",
       "    <tr>\n",
       "      <td>2</td>\n",
       "      <td>5.211447e-01</td>\n",
       "      <td>0.734584</td>\n",
       "    </tr>\n",
       "    <tr>\n",
       "      <td>3</td>\n",
       "      <td>4.586607e-01</td>\n",
       "      <td>0.795553</td>\n",
       "    </tr>\n",
       "    <tr>\n",
       "      <td>4</td>\n",
       "      <td>5.552259e-01</td>\n",
       "      <td>0.698471</td>\n",
       "    </tr>\n",
       "  </tbody>\n",
       "</table>\n",
       "</div>"
      ],
      "text/plain": [
       "             f1        f2\n",
       "0  2.207037e-16  1.003777\n",
       "1  5.562817e-01  0.697585\n",
       "2  5.211447e-01  0.734584\n",
       "3  4.586607e-01  0.795553\n",
       "4  5.552259e-01  0.698471"
      ]
     },
     "execution_count": 48,
     "metadata": {},
     "output_type": "execute_result"
    }
   ],
   "source": [
    "# convert to DataFrame\n",
    "objective_values_nsga2_df = pd.DataFrame(objective_values_nsga2, columns=['f1', 'f2'])\n",
    "objective_values_nsga2_df.head()"
   ]
  },
  {
   "cell_type": "code",
   "execution_count": 49,
   "metadata": {},
   "outputs": [
    {
     "data": {
      "text/html": [
       "<div>\n",
       "<style scoped>\n",
       "    .dataframe tbody tr th:only-of-type {\n",
       "        vertical-align: middle;\n",
       "    }\n",
       "\n",
       "    .dataframe tbody tr th {\n",
       "        vertical-align: top;\n",
       "    }\n",
       "\n",
       "    .dataframe thead th {\n",
       "        text-align: right;\n",
       "    }\n",
       "</style>\n",
       "<table border=\"1\" class=\"dataframe\">\n",
       "  <thead>\n",
       "    <tr style=\"text-align: right;\">\n",
       "      <th></th>\n",
       "      <th>f1</th>\n",
       "      <th>f2</th>\n",
       "    </tr>\n",
       "  </thead>\n",
       "  <tbody>\n",
       "    <tr>\n",
       "      <td>0</td>\n",
       "      <td>0.990229</td>\n",
       "      <td>0.020403</td>\n",
       "    </tr>\n",
       "    <tr>\n",
       "      <td>1</td>\n",
       "      <td>0.000000</td>\n",
       "      <td>1.001967</td>\n",
       "    </tr>\n",
       "    <tr>\n",
       "      <td>2</td>\n",
       "      <td>0.475745</td>\n",
       "      <td>0.776265</td>\n",
       "    </tr>\n",
       "    <tr>\n",
       "      <td>3</td>\n",
       "      <td>0.229725</td>\n",
       "      <td>0.949906</td>\n",
       "    </tr>\n",
       "    <tr>\n",
       "      <td>4</td>\n",
       "      <td>0.397250</td>\n",
       "      <td>0.847899</td>\n",
       "    </tr>\n",
       "  </tbody>\n",
       "</table>\n",
       "</div>"
      ],
      "text/plain": [
       "         f1        f2\n",
       "0  0.990229  0.020403\n",
       "1  0.000000  1.001967\n",
       "2  0.475745  0.776265\n",
       "3  0.229725  0.949906\n",
       "4  0.397250  0.847899"
      ]
     },
     "execution_count": 49,
     "metadata": {},
     "output_type": "execute_result"
    }
   ],
   "source": [
    "objective_values_omopso_df = pd.DataFrame(objective_values_omopso, columns=['f1', 'f2'])\n",
    "objective_values_omopso_df.head()"
   ]
  },
  {
   "cell_type": "code",
   "execution_count": 58,
   "metadata": {},
   "outputs": [
    {
     "data": {
      "image/png": "[encoded data removed]",
      "text/plain": [
       "<Figure size 432x288 with 1 Axes>"
      ]
     },
     "metadata": {
      "needs_background": "light"
     },
     "output_type": "display_data"
    }
   ],
   "source": [
    "plt.plot(objective_values_nsga2_df.f1, objective_values_nsga2_df.f2, 'bo', label='NSGAII')\n",
    "plt.plot(objective_values_omopso_df.f1, objective_values_omopso_df.f2, 'ro', label='OMOPSO')\n",
    "plt.plot(true_front_df.f1, true_front_df.f2, 'c-', label='True Pareto Front')\n",
    "plt.xlabel('f1')\n",
    "plt.ylabel('f2')\n",
    "plt.legend()\n",
    "plt.show()"
   ]
  },
  {
   "cell_type": "code",
   "execution_count": null,
   "metadata": {},
   "outputs": [],
   "source": []
  }
 ],
 "metadata": {
  "kernelspec": {
   "display_name": "Python 3",
   "language": "python",
   "name": "python3"
  },
  "language_info": {
   "codemirror_mode": {
    "name": "ipython",
    "version": 3
   },
   "file_extension": ".py",
   "mimetype": "text/x-python",
   "name": "python",
   "nbconvert_exporter": "python",
   "pygments_lexer": "ipython3",
   "version": "3.7.4"
  }
 },
 "nbformat": 4,
 "nbformat_minor": 2
}
